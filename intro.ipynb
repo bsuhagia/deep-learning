{
 "cells": [
  {
   "cell_type": "code",
   "execution_count": 2,
   "metadata": {
    "collapsed": false
   },
   "outputs": [
    {
     "name": "stderr",
     "output_type": "stream",
     "text": [
      "Using TensorFlow backend.\n"
     ]
    }
   ],
   "source": [
    "from keras.models import Sequential\n",
    "from keras.layers import Dense, Activation\n",
    "import numpy as np\n",
    "from pprint import pprint\n",
    "import matplotlib.pyplot as plt\n",
    "import matplotlib\n",
    "%matplotlib inline\n",
    "plt.style.use('ggplot')"
   ]
  },
  {
   "cell_type": "code",
   "execution_count": 8,
   "metadata": {
    "collapsed": false
   },
   "outputs": [],
   "source": [
    "model = Sequential([\n",
    "        Dense(1, input_dim=784),\n",
    "        Activation('sigmoid'),\n",
    "    ])\n",
    "model.compile(optimizer='rmsprop', loss='binary_crossentropy', metrics=['accuracy'])"
   ]
  },
  {
   "cell_type": "code",
   "execution_count": 9,
   "metadata": {
    "collapsed": false
   },
   "outputs": [],
   "source": [
    "data =np.random.random((1000, 784))\n",
    "labels = np.random.randint(2, size=(1000, 1))"
   ]
  },
  {
   "cell_type": "code",
   "execution_count": 10,
   "metadata": {
    "collapsed": false
   },
   "outputs": [
    {
     "name": "stdout",
     "output_type": "stream",
     "text": [
      "Epoch 1/100\n",
      "1000/1000 [==============================] - 0s - loss: 0.7224 - acc: 0.5220     \n",
      "Epoch 2/100\n",
      "1000/1000 [==============================] - 0s - loss: 0.7091 - acc: 0.5260     \n",
      "Epoch 3/100\n",
      "1000/1000 [==============================] - 0s - loss: 0.6986 - acc: 0.5370     \n",
      "Epoch 4/100\n",
      "1000/1000 [==============================] - 0s - loss: 0.6911 - acc: 0.5610     \n",
      "Epoch 5/100\n",
      "1000/1000 [==============================] - 0s - loss: 0.6912 - acc: 0.5630     \n",
      "Epoch 6/100\n",
      "1000/1000 [==============================] - 0s - loss: 0.6801 - acc: 0.5700     \n",
      "Epoch 7/100\n",
      "1000/1000 [==============================] - 0s - loss: 0.6657 - acc: 0.5820     \n",
      "Epoch 8/100\n",
      "1000/1000 [==============================] - 0s - loss: 0.6619 - acc: 0.6050     \n",
      "Epoch 9/100\n",
      "1000/1000 [==============================] - 0s - loss: 0.6596 - acc: 0.6030     \n",
      "Epoch 10/100\n",
      "1000/1000 [==============================] - 0s - loss: 0.6481 - acc: 0.6520     \n",
      "Epoch 11/100\n",
      "1000/1000 [==============================] - 0s - loss: 0.6463 - acc: 0.6260     \n",
      "Epoch 12/100\n",
      "1000/1000 [==============================] - 0s - loss: 0.6344 - acc: 0.6500     \n",
      "Epoch 13/100\n",
      "1000/1000 [==============================] - 0s - loss: 0.6369 - acc: 0.6510     \n",
      "Epoch 14/100\n",
      "1000/1000 [==============================] - 0s - loss: 0.6164 - acc: 0.6820     \n",
      "Epoch 15/100\n",
      "1000/1000 [==============================] - 0s - loss: 0.6139 - acc: 0.6870     \n",
      "Epoch 16/100\n",
      "1000/1000 [==============================] - 0s - loss: 0.6082 - acc: 0.6910     \n",
      "Epoch 17/100\n",
      "1000/1000 [==============================] - 0s - loss: 0.6041 - acc: 0.6840     \n",
      "Epoch 18/100\n",
      "1000/1000 [==============================] - 0s - loss: 0.5992 - acc: 0.7140     \n",
      "Epoch 19/100\n",
      "1000/1000 [==============================] - 0s - loss: 0.5999 - acc: 0.7080     \n",
      "Epoch 20/100\n",
      "1000/1000 [==============================] - 0s - loss: 0.5883 - acc: 0.7280     \n",
      "Epoch 21/100\n",
      "1000/1000 [==============================] - 0s - loss: 0.5900 - acc: 0.7050     \n",
      "Epoch 22/100\n",
      "1000/1000 [==============================] - 0s - loss: 0.5776 - acc: 0.7570     \n",
      "Epoch 23/100\n",
      "1000/1000 [==============================] - 0s - loss: 0.5691 - acc: 0.7260     \n",
      "Epoch 24/100\n",
      "1000/1000 [==============================] - 0s - loss: 0.5717 - acc: 0.7400     \n",
      "Epoch 25/100\n",
      "1000/1000 [==============================] - 0s - loss: 0.5659 - acc: 0.7460     \n",
      "Epoch 26/100\n",
      "1000/1000 [==============================] - 0s - loss: 0.5620 - acc: 0.7610     \n",
      "Epoch 27/100\n",
      "1000/1000 [==============================] - 0s - loss: 0.5579 - acc: 0.7540     \n",
      "Epoch 28/100\n",
      "1000/1000 [==============================] - 0s - loss: 0.5521 - acc: 0.7540     \n",
      "Epoch 29/100\n",
      "1000/1000 [==============================] - 0s - loss: 0.5565 - acc: 0.7660     \n",
      "Epoch 30/100\n",
      "1000/1000 [==============================] - 0s - loss: 0.5535 - acc: 0.7630     \n",
      "Epoch 31/100\n",
      "1000/1000 [==============================] - 0s - loss: 0.5443 - acc: 0.7830     \n",
      "Epoch 32/100\n",
      "1000/1000 [==============================] - 0s - loss: 0.5423 - acc: 0.7700     \n",
      "Epoch 33/100\n",
      "1000/1000 [==============================] - 0s - loss: 0.5360 - acc: 0.7670     \n",
      "Epoch 34/100\n",
      "1000/1000 [==============================] - 0s - loss: 0.5296 - acc: 0.7910     \n",
      "Epoch 35/100\n",
      "1000/1000 [==============================] - 0s - loss: 0.5251 - acc: 0.7870     \n",
      "Epoch 36/100\n",
      "1000/1000 [==============================] - 0s - loss: 0.5237 - acc: 0.8020     \n",
      "Epoch 37/100\n",
      "1000/1000 [==============================] - 0s - loss: 0.5211 - acc: 0.8000     \n",
      "Epoch 38/100\n",
      "1000/1000 [==============================] - 0s - loss: 0.5210 - acc: 0.8030     \n",
      "Epoch 39/100\n",
      "1000/1000 [==============================] - 0s - loss: 0.5152 - acc: 0.8010     \n",
      "Epoch 40/100\n",
      "1000/1000 [==============================] - 0s - loss: 0.5133 - acc: 0.8070     \n",
      "Epoch 41/100\n",
      "1000/1000 [==============================] - 0s - loss: 0.5079 - acc: 0.8040     \n",
      "Epoch 42/100\n",
      "1000/1000 [==============================] - 0s - loss: 0.5057 - acc: 0.8020     \n",
      "Epoch 43/100\n",
      "1000/1000 [==============================] - 0s - loss: 0.4986 - acc: 0.8240     \n",
      "Epoch 44/100\n",
      "1000/1000 [==============================] - 0s - loss: 0.4983 - acc: 0.8090     \n",
      "Epoch 45/100\n",
      "1000/1000 [==============================] - 0s - loss: 0.4962 - acc: 0.8110     \n",
      "Epoch 46/100\n",
      "1000/1000 [==============================] - 0s - loss: 0.4897 - acc: 0.8190     \n",
      "Epoch 47/100\n",
      "1000/1000 [==============================] - 0s - loss: 0.4876 - acc: 0.8230     \n",
      "Epoch 48/100\n",
      "1000/1000 [==============================] - 0s - loss: 0.4874 - acc: 0.8110     \n",
      "Epoch 49/100\n",
      "1000/1000 [==============================] - 0s - loss: 0.4806 - acc: 0.8260     \n",
      "Epoch 50/100\n",
      "1000/1000 [==============================] - 0s - loss: 0.4834 - acc: 0.8140     \n",
      "Epoch 51/100\n",
      "1000/1000 [==============================] - 0s - loss: 0.4789 - acc: 0.8150     \n",
      "Epoch 52/100\n",
      "1000/1000 [==============================] - 0s - loss: 0.4733 - acc: 0.8390     \n",
      "Epoch 53/100\n",
      "1000/1000 [==============================] - 0s - loss: 0.4743 - acc: 0.8250     \n",
      "Epoch 54/100\n",
      "1000/1000 [==============================] - 0s - loss: 0.4699 - acc: 0.8350     \n",
      "Epoch 55/100\n",
      "1000/1000 [==============================] - 0s - loss: 0.4686 - acc: 0.8370     \n",
      "Epoch 56/100\n",
      "1000/1000 [==============================] - 0s - loss: 0.4653 - acc: 0.8280     \n",
      "Epoch 57/100\n",
      "1000/1000 [==============================] - 0s - loss: 0.4622 - acc: 0.8350     \n",
      "Epoch 58/100\n",
      "1000/1000 [==============================] - 0s - loss: 0.4627 - acc: 0.8350     \n",
      "Epoch 59/100\n",
      "1000/1000 [==============================] - 0s - loss: 0.4602 - acc: 0.8350     \n",
      "Epoch 60/100\n",
      "1000/1000 [==============================] - 0s - loss: 0.4579 - acc: 0.8320     \n",
      "Epoch 61/100\n",
      "1000/1000 [==============================] - 0s - loss: 0.4525 - acc: 0.8380     \n",
      "Epoch 62/100\n",
      "1000/1000 [==============================] - 0s - loss: 0.4511 - acc: 0.8410     \n",
      "Epoch 63/100\n",
      "1000/1000 [==============================] - 0s - loss: 0.4511 - acc: 0.8370     \n",
      "Epoch 64/100\n",
      "1000/1000 [==============================] - 0s - loss: 0.4433 - acc: 0.8510     \n",
      "Epoch 65/100\n",
      "1000/1000 [==============================] - 0s - loss: 0.4486 - acc: 0.8430     \n",
      "Epoch 66/100\n",
      "1000/1000 [==============================] - 0s - loss: 0.4420 - acc: 0.8470     \n",
      "Epoch 67/100\n",
      "1000/1000 [==============================] - 0s - loss: 0.4395 - acc: 0.8440     \n",
      "Epoch 68/100\n",
      "1000/1000 [==============================] - 0s - loss: 0.4395 - acc: 0.8490     \n",
      "Epoch 69/100\n",
      "1000/1000 [==============================] - 0s - loss: 0.4381 - acc: 0.8410     \n",
      "Epoch 70/100\n",
      "1000/1000 [==============================] - 0s - loss: 0.4363 - acc: 0.8360     \n",
      "Epoch 71/100\n",
      "1000/1000 [==============================] - 0s - loss: 0.4336 - acc: 0.8500     \n",
      "Epoch 72/100\n",
      "1000/1000 [==============================] - 0s - loss: 0.4297 - acc: 0.8570     \n",
      "Epoch 73/100\n",
      "1000/1000 [==============================] - 0s - loss: 0.4260 - acc: 0.8480     \n",
      "Epoch 74/100\n",
      "1000/1000 [==============================] - 0s - loss: 0.4268 - acc: 0.8600     \n",
      "Epoch 75/100\n",
      "1000/1000 [==============================] - 0s - loss: 0.4245 - acc: 0.8530     \n",
      "Epoch 76/100\n",
      "1000/1000 [==============================] - 0s - loss: 0.4255 - acc: 0.8570     \n",
      "Epoch 77/100\n",
      "1000/1000 [==============================] - 0s - loss: 0.4209 - acc: 0.8610     \n",
      "Epoch 78/100\n",
      "1000/1000 [==============================] - 0s - loss: 0.4225 - acc: 0.8590     \n",
      "Epoch 79/100\n",
      "1000/1000 [==============================] - 0s - loss: 0.4158 - acc: 0.8580     \n",
      "Epoch 80/100\n",
      "1000/1000 [==============================] - 0s - loss: 0.4160 - acc: 0.8650     \n",
      "Epoch 81/100\n",
      "1000/1000 [==============================] - 0s - loss: 0.4144 - acc: 0.8670     \n",
      "Epoch 82/100\n",
      "1000/1000 [==============================] - 0s - loss: 0.4107 - acc: 0.8720     \n",
      "Epoch 83/100\n",
      "1000/1000 [==============================] - 0s - loss: 0.4100 - acc: 0.8610     \n",
      "Epoch 84/100\n",
      "1000/1000 [==============================] - 0s - loss: 0.4126 - acc: 0.8620     \n",
      "Epoch 85/100\n",
      "1000/1000 [==============================] - 0s - loss: 0.4056 - acc: 0.8670     \n",
      "Epoch 86/100\n",
      "1000/1000 [==============================] - 0s - loss: 0.4039 - acc: 0.8620     \n",
      "Epoch 87/100\n",
      "1000/1000 [==============================] - 0s - loss: 0.4056 - acc: 0.8660     \n",
      "Epoch 88/100\n",
      "1000/1000 [==============================] - 0s - loss: 0.4013 - acc: 0.8760     \n",
      "Epoch 89/100\n",
      "1000/1000 [==============================] - 0s - loss: 0.4031 - acc: 0.8860     \n",
      "Epoch 90/100\n",
      "1000/1000 [==============================] - 0s - loss: 0.4017 - acc: 0.8680     \n",
      "Epoch 91/100\n",
      "1000/1000 [==============================] - 0s - loss: 0.3944 - acc: 0.8820     \n",
      "Epoch 92/100\n",
      "1000/1000 [==============================] - 0s - loss: 0.3989 - acc: 0.8740     \n",
      "Epoch 93/100\n",
      "1000/1000 [==============================] - 0s - loss: 0.3924 - acc: 0.8780     \n",
      "Epoch 94/100\n",
      "1000/1000 [==============================] - 0s - loss: 0.3918 - acc: 0.8790     \n",
      "Epoch 95/100\n",
      "1000/1000 [==============================] - 0s - loss: 0.3921 - acc: 0.8700     \n",
      "Epoch 96/100\n",
      "1000/1000 [==============================] - 0s - loss: 0.3910 - acc: 0.8760     \n",
      "Epoch 97/100\n",
      "1000/1000 [==============================] - 0s - loss: 0.3949 - acc: 0.8670     \n",
      "Epoch 98/100\n",
      "1000/1000 [==============================] - 0s - loss: 0.3897 - acc: 0.8740     \n",
      "Epoch 99/100\n",
      "1000/1000 [==============================] - 0s - loss: 0.3926 - acc: 0.8660     \n",
      "Epoch 100/100\n",
      "1000/1000 [==============================] - 0s - loss: 0.3839 - acc: 0.8750     \n"
     ]
    }
   ],
   "source": [
    "results = model.fit(data, labels, nb_epoch=100, batch_size=32)"
   ]
  },
  {
   "cell_type": "code",
   "execution_count": 11,
   "metadata": {
    "collapsed": false
   },
   "outputs": [
    {
     "data": {
      "text/plain": [
       "[<matplotlib.lines.Line2D at 0x11e8f8390>]"
      ]
     },
     "execution_count": 11,
     "metadata": {},
     "output_type": "execute_result"
    },
    {
     "data": {
      "image/png": "[encoded data removed]",
      "text/plain": [
       "<matplotlib.figure.Figure at 0x11e7d0b70>"
      ]
     },
     "metadata": {},
     "output_type": "display_data"
    }
   ],
   "source": [
    "plt.plot(results.history['acc'])"
   ]
  },
  {
   "cell_type": "code",
   "execution_count": null,
   "metadata": {
    "collapsed": true
   },
   "outputs": [],
   "source": []
  }
 ],
 "metadata": {
  "anaconda-cloud": {},
  "kernelspec": {
   "display_name": "Python [conda root]",
   "language": "python",
   "name": "conda-root-py"
  }
 },
 "nbformat": 4,
 "nbformat_minor": 1
}
